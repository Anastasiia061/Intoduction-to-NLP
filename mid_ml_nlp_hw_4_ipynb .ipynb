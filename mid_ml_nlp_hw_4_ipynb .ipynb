{
  "nbformat": 4,
  "nbformat_minor": 0,
  "metadata": {
    "kernelspec": {
      "display_name": "Python 3",
      "language": "python",
      "name": "python3"
    },
    "language_info": {
      "codemirror_mode": {
        "name": "ipython",
        "version": 3
      },
      "file_extension": ".py",
      "mimetype": "text/x-python",
      "name": "python",
      "nbconvert_exporter": "python",
      "pygments_lexer": "ipython3",
      "version": "3.6.3"
    },
    "colab": {
      "name": "Копия блокнота \"mid_ml_nlp_hw-4.ipynb\"",
      "provenance": [],
      "collapsed_sections": [],
      "toc_visible": true
    }
  },
  "cells": [
    {
      "cell_type": "markdown",
      "metadata": {
        "id": "5SGn801yaveE",
        "colab_type": "text"
      },
      "source": [
        "## Урок 4.\n",
        "\n",
        "### Задание начального уровня\n",
        "\n",
        "Обучите модель Skip-Gram (передав параметр `sg=1`. Какие top-10 слов больше всего похожи на слово `iphone` ?"
      ]
    },
    {
      "cell_type": "code",
      "metadata": {
        "id": "MKl_QAtOaved",
        "colab_type": "code",
        "colab": {}
      },
      "source": [
        "from gensim.models import Word2Vec\n",
        "import logging\n",
        "\n",
        "logging.basicConfig(format='%(asctime)s : %(levelname)s : %(message)s', level=logging.INFO)\n",
        "\n",
        "### YOUR CODE HERE ###\n",
        "\n"
      ],
      "execution_count": 1,
      "outputs": []
    },
    {
      "cell_type": "code",
      "metadata": {
        "id": "enI8SkFZbug2",
        "colab_type": "code",
        "colab": {
          "base_uri": "https://localhost:8080/",
          "height": 54
        },
        "outputId": "44128c7e-dcde-42d7-f385-3cf1bb316fa5"
      },
      "source": [
        "import pandas as pd\n",
        "import nltk\n",
        "import string\n",
        "nltk.download('punkt', download_dir='.')\n",
        "\n",
        "df = pd.read_csv('brand_tweets.csv', sep=',', encoding='utf8')\n",
        "# удаляем строки, в которых отсутствует текст твита\n",
        "df.drop(df[df.tweet_text.isnull()].index, inplace=True)\n",
        "\n",
        "\n",
        "stop_words = [\n",
        "    'i', 'me', 'my', 'myself', 'we', 'our', 'ours', 'ourselves', 'you', \"you're\", \"you've\", \"you'll\", \"you'd\",\n",
        "    'your', 'yours', 'yourself', 'yourselves', 'he', 'him', 'his', 'himself', 'she', \"she's\", 'her', 'hers',\n",
        "    'herself', 'it', \"it's\", 'its', 'itself', 'they', 'them', 'their', 'theirs', 'themselves', 'what', 'which',\n",
        "    'who', 'whom', 'this', 'that', \"that'll\", 'these', 'those', 'am', 'is', 'are', 'was', 'were', 'be', 'been',\n",
        "    'being', 'have', 'has', 'had', 'having', 'do', 'does', 'did', 'doing', 'a', 'an', 'the', 'and', 'but', 'if',\n",
        "    'or', 'because', 'as', 'until', 'while', 'of', 'at', 'by', 'for', 'with', 'about', 'against', 'between',\n",
        "    'into', 'through', 'during', 'before', 'after', 'above', 'below', 'to', 'from', 'up', 'down', 'in', 'out',\n",
        "    'on', 'off', 'over', 'under', 'again', 'further', 'then', 'once', 'here', 'there', 'when', 'where', 'why',\n",
        "    'how', 'all', 'any', 'both', 'each', 'few', 'more', 'most', 'other', 'some', 'such', 'no', 'nor', 'not',\n",
        "    'only', 'own', 'same', 'so', 'than', 'too', 'very', 's', 't', 'can', 'will', 'just', 'don', \"don't\", 'shold',\n",
        "    \"should've\", 'now', 'd', 'll', 'm', 'o', 're', 've', 'y', 'ain', 'aren', \"aren't\", 'couldn', \"couldn't\",\n",
        "    'didn', \"didn't\", 'doesn', \"doesn't\", 'hadn', \"hadn't\", 'hasn', \"hasn't\", 'haven', \"haven't\", 'isn', \"isn't\",\n",
        "    'ma', 'mightn', \"mightn't\", 'mustn', \"mustn't\", 'needn', \"needn't\", 'shan', \"shan't\", 'shouldn', \"shouldn't\",\n",
        "    'wasn', \"wasn't\", 'weren', \"weren't\", 'won', \"won't\", 'wouldn', \"wouldn't\"\n",
        "]\n",
        "def tokenize_text(raw_text: str):\n",
        "    \"\"\"Функция для токенизации текста\n",
        "    \n",
        "    :param raw_text: исходная текстовая строка\n",
        "    \"\"\"\n",
        "    tokenized_str = nltk.word_tokenize(raw_text)\n",
        "    tokens = [i.lower() for i in tokenized_str if ( i not in string.punctuation )]\n",
        "    filtered_tokens = [i for i in tokens if ( i not in stop_words )]\n",
        "    return filtered_tokens"
      ],
      "execution_count": 2,
      "outputs": [
        {
          "output_type": "stream",
          "text": [
            "[nltk_data] Downloading package punkt to ....\n",
            "[nltk_data]   Unzipping tokenizers/punkt.zip.\n"
          ],
          "name": "stdout"
        }
      ]
    },
    {
      "cell_type": "code",
      "metadata": {
        "id": "QOOpCl26b-Bo",
        "colab_type": "code",
        "colab": {
          "base_uri": "https://localhost:8080/",
          "height": 128
        },
        "outputId": "98114eab-1c89-4417-b7ef-e7eeef973422"
      },
      "source": [
        "tokenized_tweets= df.tweet_text.apply(tokenize_text)\n",
        "\n",
        "# добавляем новую колонку в исходный датафрейм\n",
        "df = df.assign(\n",
        "    tokenized=tokenized_tweets\n",
        ")\n",
        "\n",
        "df.tokenized.head()"
      ],
      "execution_count": 3,
      "outputs": [
        {
          "output_type": "execute_result",
          "data": {
            "text/plain": [
              "0    [wesley83, 3g, iphone, 3, hrs, tweeting, rise_...\n",
              "1    [jessedee, know, fludapp, awesome, ipad/iphone...\n",
              "2    [swonderlin, wait, ipad, 2, also, should, sale...\n",
              "3    [sxsw, hope, year, 's, festival, n't, crashy, ...\n",
              "4    [sxtxstate, great, stuff, fri, sxsw, marissa, ...\n",
              "Name: tokenized, dtype: object"
            ]
          },
          "metadata": {
            "tags": []
          },
          "execution_count": 3
        }
      ]
    },
    {
      "cell_type": "code",
      "metadata": {
        "id": "T1ZEuj7_dloT",
        "colab_type": "code",
        "colab": {
          "base_uri": "https://localhost:8080/",
          "height": 1000
        },
        "outputId": "afc92a83-c518-47d1-a01a-5d9949eb8046"
      },
      "source": [
        "\n",
        "texts = df.tokenized.values\n",
        "\n",
        "model = Word2Vec(texts, size=10, window=7, min_count=2, workers=4, iter=10, sg=1)"
      ],
      "execution_count": 4,
      "outputs": [
        {
          "output_type": "stream",
          "text": [
            "2020-08-01 14:39:46,717 : WARNING : consider setting layer size to a multiple of 4 for greater performance\n",
            "2020-08-01 14:39:46,719 : INFO : collecting all words and their counts\n",
            "2020-08-01 14:39:46,721 : INFO : PROGRESS: at sentence #0, processed 0 words, keeping 0 word types\n",
            "2020-08-01 14:39:46,747 : INFO : collected 7307 word types from a corpus of 48380 raw words and 3904 sentences\n",
            "2020-08-01 14:39:46,748 : INFO : Loading a fresh vocabulary\n",
            "2020-08-01 14:39:46,760 : INFO : effective_min_count=2 retains 3080 unique words (42% of original 7307, drops 4227)\n",
            "2020-08-01 14:39:46,761 : INFO : effective_min_count=2 leaves 44153 word corpus (91% of original 48380, drops 4227)\n",
            "2020-08-01 14:39:46,776 : INFO : deleting the raw counts dictionary of 7307 items\n",
            "2020-08-01 14:39:46,778 : INFO : sample=0.001 downsamples 40 most-common words\n",
            "2020-08-01 14:39:46,779 : INFO : downsampling leaves estimated 30499 word corpus (69.1% of prior 44153)\n",
            "2020-08-01 14:39:46,791 : INFO : estimated required memory for 3080 words and 10 dimensions: 1786400 bytes\n",
            "2020-08-01 14:39:46,794 : INFO : resetting layer weights\n",
            "2020-08-01 14:39:47,413 : INFO : training model with 4 workers on 3080 vocabulary and 10 features, using sg=1 hs=0 sample=0.001 negative=5 window=7\n",
            "2020-08-01 14:39:47,514 : INFO : worker thread finished; awaiting finish of 3 more threads\n",
            "2020-08-01 14:39:47,520 : INFO : worker thread finished; awaiting finish of 2 more threads\n",
            "2020-08-01 14:39:47,522 : INFO : worker thread finished; awaiting finish of 1 more threads\n",
            "2020-08-01 14:39:47,540 : INFO : worker thread finished; awaiting finish of 0 more threads\n",
            "2020-08-01 14:39:47,542 : INFO : EPOCH - 1 : training on 48380 raw words (30425 effective words) took 0.1s, 254050 effective words/s\n",
            "2020-08-01 14:39:47,639 : INFO : worker thread finished; awaiting finish of 3 more threads\n",
            "2020-08-01 14:39:47,645 : INFO : worker thread finished; awaiting finish of 2 more threads\n",
            "2020-08-01 14:39:47,646 : INFO : worker thread finished; awaiting finish of 1 more threads\n",
            "2020-08-01 14:39:47,670 : INFO : worker thread finished; awaiting finish of 0 more threads\n",
            "2020-08-01 14:39:47,671 : INFO : EPOCH - 2 : training on 48380 raw words (30464 effective words) took 0.1s, 256073 effective words/s\n",
            "2020-08-01 14:39:47,767 : INFO : worker thread finished; awaiting finish of 3 more threads\n",
            "2020-08-01 14:39:47,789 : INFO : worker thread finished; awaiting finish of 2 more threads\n",
            "2020-08-01 14:39:47,796 : INFO : worker thread finished; awaiting finish of 1 more threads\n",
            "2020-08-01 14:39:47,798 : INFO : worker thread finished; awaiting finish of 0 more threads\n",
            "2020-08-01 14:39:47,800 : INFO : EPOCH - 3 : training on 48380 raw words (30419 effective words) took 0.1s, 258232 effective words/s\n",
            "2020-08-01 14:39:47,906 : INFO : worker thread finished; awaiting finish of 3 more threads\n",
            "2020-08-01 14:39:47,908 : INFO : worker thread finished; awaiting finish of 2 more threads\n",
            "2020-08-01 14:39:47,913 : INFO : worker thread finished; awaiting finish of 1 more threads\n",
            "2020-08-01 14:39:47,925 : INFO : worker thread finished; awaiting finish of 0 more threads\n",
            "2020-08-01 14:39:47,926 : INFO : EPOCH - 4 : training on 48380 raw words (30496 effective words) took 0.1s, 261581 effective words/s\n",
            "2020-08-01 14:39:48,028 : INFO : worker thread finished; awaiting finish of 3 more threads\n",
            "2020-08-01 14:39:48,031 : INFO : worker thread finished; awaiting finish of 2 more threads\n",
            "2020-08-01 14:39:48,037 : INFO : worker thread finished; awaiting finish of 1 more threads\n",
            "2020-08-01 14:39:48,057 : INFO : worker thread finished; awaiting finish of 0 more threads\n",
            "2020-08-01 14:39:48,058 : INFO : EPOCH - 5 : training on 48380 raw words (30625 effective words) took 0.1s, 251414 effective words/s\n",
            "2020-08-01 14:39:48,169 : INFO : worker thread finished; awaiting finish of 3 more threads\n",
            "2020-08-01 14:39:48,171 : INFO : worker thread finished; awaiting finish of 2 more threads\n",
            "2020-08-01 14:39:48,176 : INFO : worker thread finished; awaiting finish of 1 more threads\n",
            "2020-08-01 14:39:48,195 : INFO : worker thread finished; awaiting finish of 0 more threads\n",
            "2020-08-01 14:39:48,196 : INFO : EPOCH - 6 : training on 48380 raw words (30568 effective words) took 0.1s, 243240 effective words/s\n",
            "2020-08-01 14:39:48,295 : INFO : worker thread finished; awaiting finish of 3 more threads\n",
            "2020-08-01 14:39:48,297 : INFO : worker thread finished; awaiting finish of 2 more threads\n",
            "2020-08-01 14:39:48,298 : INFO : worker thread finished; awaiting finish of 1 more threads\n",
            "2020-08-01 14:39:48,324 : INFO : worker thread finished; awaiting finish of 0 more threads\n",
            "2020-08-01 14:39:48,325 : INFO : EPOCH - 7 : training on 48380 raw words (30427 effective words) took 0.1s, 256184 effective words/s\n",
            "2020-08-01 14:39:48,424 : INFO : worker thread finished; awaiting finish of 3 more threads\n",
            "2020-08-01 14:39:48,434 : INFO : worker thread finished; awaiting finish of 2 more threads\n",
            "2020-08-01 14:39:48,435 : INFO : worker thread finished; awaiting finish of 1 more threads\n",
            "2020-08-01 14:39:48,457 : INFO : worker thread finished; awaiting finish of 0 more threads\n",
            "2020-08-01 14:39:48,458 : INFO : EPOCH - 8 : training on 48380 raw words (30491 effective words) took 0.1s, 258281 effective words/s\n",
            "2020-08-01 14:39:48,553 : INFO : worker thread finished; awaiting finish of 3 more threads\n",
            "2020-08-01 14:39:48,564 : INFO : worker thread finished; awaiting finish of 2 more threads\n",
            "2020-08-01 14:39:48,570 : INFO : worker thread finished; awaiting finish of 1 more threads\n",
            "2020-08-01 14:39:48,587 : INFO : worker thread finished; awaiting finish of 0 more threads\n",
            "2020-08-01 14:39:48,588 : INFO : EPOCH - 9 : training on 48380 raw words (30470 effective words) took 0.1s, 258923 effective words/s\n",
            "2020-08-01 14:39:48,684 : INFO : worker thread finished; awaiting finish of 3 more threads\n",
            "2020-08-01 14:39:48,702 : INFO : worker thread finished; awaiting finish of 2 more threads\n",
            "2020-08-01 14:39:48,708 : INFO : worker thread finished; awaiting finish of 1 more threads\n",
            "2020-08-01 14:39:48,709 : INFO : worker thread finished; awaiting finish of 0 more threads\n",
            "2020-08-01 14:39:48,710 : INFO : EPOCH - 10 : training on 48380 raw words (30395 effective words) took 0.1s, 270905 effective words/s\n",
            "2020-08-01 14:39:48,711 : INFO : training on a 483800 raw words (304780 effective words) took 1.3s, 234887 effective words/s\n"
          ],
          "name": "stderr"
        }
      ]
    },
    {
      "cell_type": "code",
      "metadata": {
        "id": "J1Fdpajkd6Jj",
        "colab_type": "code",
        "colab": {
          "base_uri": "https://localhost:8080/",
          "height": 259
        },
        "outputId": "934dd438-3eaa-418a-f5d8-1cd7e39fecaa"
      },
      "source": [
        "model.wv.most_similar('iphone')"
      ],
      "execution_count": 7,
      "outputs": [
        {
          "output_type": "stream",
          "text": [
            "/usr/local/lib/python3.6/dist-packages/gensim/matutils.py:737: FutureWarning: Conversion of the second argument of issubdtype from `int` to `np.signedinteger` is deprecated. In future, it will be treated as `np.int64 == np.dtype(int).type`.\n",
            "  if np.issubdtype(vec.dtype, np.int):\n"
          ],
          "name": "stderr"
        },
        {
          "output_type": "execute_result",
          "data": {
            "text/plain": [
              "[('team', 0.9661175608634949),\n",
              " ('awards', 0.9458853006362915),\n",
              " ('app', 0.9368777275085449),\n",
              " ('andoid', 0.9353477954864502),\n",
              " ('working', 0.9304492473602295),\n",
              " ('ios', 0.9292254447937012),\n",
              " ('choice', 0.926587700843811),\n",
              " ('calyp', 0.9192090630531311),\n",
              " ('concertgoers', 0.9179053902626038),\n",
              " ('hollergram', 0.9132626056671143)]"
            ]
          },
          "metadata": {
            "tags": []
          },
          "execution_count": 7
        }
      ]
    }
  ]
}