{
  "nbformat": 4,
  "nbformat_minor": 0,
  "metadata": {
    "kernelspec": {
      "display_name": "Python 3",
      "language": "python",
      "name": "python3"
    },
    "language_info": {
      "codemirror_mode": {
        "name": "ipython",
        "version": 3
      },
      "file_extension": ".py",
      "mimetype": "text/x-python",
      "name": "python",
      "nbconvert_exporter": "python",
      "pygments_lexer": "ipython3",
      "version": "3.6.3"
    },
    "colab": {
      "name": "Копия блокнота \"mid_ml_nlp_hw-3.ipynb\"",
      "provenance": [],
      "collapsed_sections": [],
      "toc_visible": true
    }
  },
  "cells": [
    {
      "cell_type": "markdown",
      "metadata": {
        "id": "vGhDg4qLnDYW",
        "colab_type": "text"
      },
      "source": [
        "## Урок 3 \n",
        "\n",
        "### Задание начального уровня\n",
        "\n",
        "Потренируйтесь в нахождении матрицы схожести для валидационного сета\n",
        "\n",
        "* загрузите `brand_tweets_valid.csv`\n",
        "* примените объект `vectorizer`, обученный на датасете `brand_tweets.csv` (просто скопируйте этот код из урока)\n",
        "* примените функцию `pairwise_distances` к полученной матрице"
      ]
    },
    {
      "cell_type": "code",
      "metadata": {
        "id": "krkc6JvTnDYa",
        "colab_type": "code",
        "colab": {
          "base_uri": "https://localhost:8080/",
          "height": 233
        },
        "outputId": "42597867-fa82-4f40-942e-616516a13bf8"
      },
      "source": [
        "import pandas as pd\n",
        "import nltk\n",
        "import string\n",
        "nltk.download('punkt', download_dir='.')\n",
        "\n",
        "df = pd.read_csv('brand_tweets.csv', sep=',', encoding='utf8')\n",
        "# удаляем строки, в которых отсутствует текст твита\n",
        "df.drop(df[df.tweet_text.isnull()].index, inplace=True)\n",
        "\n",
        "### YOUR CODE HERE ###\n",
        "df.head(3)\n"
      ],
      "execution_count": 1,
      "outputs": [
        {
          "output_type": "stream",
          "text": [
            "[nltk_data] Downloading package punkt to ....\n",
            "[nltk_data]   Unzipping tokenizers/punkt.zip.\n"
          ],
          "name": "stdout"
        },
        {
          "output_type": "execute_result",
          "data": {
            "text/html": [
              "<div>\n",
              "<style scoped>\n",
              "    .dataframe tbody tr th:only-of-type {\n",
              "        vertical-align: middle;\n",
              "    }\n",
              "\n",
              "    .dataframe tbody tr th {\n",
              "        vertical-align: top;\n",
              "    }\n",
              "\n",
              "    .dataframe thead th {\n",
              "        text-align: right;\n",
              "    }\n",
              "</style>\n",
              "<table border=\"1\" class=\"dataframe\">\n",
              "  <thead>\n",
              "    <tr style=\"text-align: right;\">\n",
              "      <th></th>\n",
              "      <th>tweet_text</th>\n",
              "      <th>emotion_in_tweet_is_directed_at</th>\n",
              "      <th>is_there_an_emotion_directed_at_a_brand_or_product</th>\n",
              "    </tr>\n",
              "  </thead>\n",
              "  <tbody>\n",
              "    <tr>\n",
              "      <th>0</th>\n",
              "      <td>.@wesley83 I have a 3G iPhone. After 3 hrs twe...</td>\n",
              "      <td>iPhone</td>\n",
              "      <td>Negative emotion</td>\n",
              "    </tr>\n",
              "    <tr>\n",
              "      <th>1</th>\n",
              "      <td>@jessedee Know about @fludapp ? Awesome iPad/i...</td>\n",
              "      <td>iPad or iPhone App</td>\n",
              "      <td>Positive emotion</td>\n",
              "    </tr>\n",
              "    <tr>\n",
              "      <th>2</th>\n",
              "      <td>@swonderlin Can not wait for #iPad 2 also. The...</td>\n",
              "      <td>iPad</td>\n",
              "      <td>Positive emotion</td>\n",
              "    </tr>\n",
              "  </tbody>\n",
              "</table>\n",
              "</div>"
            ],
            "text/plain": [
              "                                          tweet_text  ... is_there_an_emotion_directed_at_a_brand_or_product\n",
              "0  .@wesley83 I have a 3G iPhone. After 3 hrs twe...  ...                                   Negative emotion\n",
              "1  @jessedee Know about @fludapp ? Awesome iPad/i...  ...                                   Positive emotion\n",
              "2  @swonderlin Can not wait for #iPad 2 also. The...  ...                                   Positive emotion\n",
              "\n",
              "[3 rows x 3 columns]"
            ]
          },
          "metadata": {
            "tags": []
          },
          "execution_count": 1
        }
      ]
    },
    {
      "cell_type": "code",
      "metadata": {
        "id": "VhW9xTX1TCb9",
        "colab_type": "code",
        "colab": {}
      },
      "source": [
        "stop_words = [\n",
        "    'i', 'me', 'my', 'myself', 'we', 'our', 'ours', 'ourselves', 'you', \"you're\", \"you've\", \"you'll\", \"you'd\",\n",
        "    'your', 'yours', 'yourself', 'yourselves', 'he', 'him', 'his', 'himself', 'she', \"she's\", 'her', 'hers',\n",
        "    'herself', 'it', \"it's\", 'its', 'itself', 'they', 'them', 'their', 'theirs', 'themselves', 'what', 'which',\n",
        "    'who', 'whom', 'this', 'that', \"that'll\", 'these', 'those', 'am', 'is', 'are', 'was', 'were', 'be', 'been',\n",
        "    'being', 'have', 'has', 'had', 'having', 'do', 'does', 'did', 'doing', 'a', 'an', 'the', 'and', 'but', 'if',\n",
        "    'or', 'because', 'as', 'until', 'while', 'of', 'at', 'by', 'for', 'with', 'about', 'against', 'between',\n",
        "    'into', 'through', 'during', 'before', 'after', 'above', 'below', 'to', 'from', 'up', 'down', 'in', 'out',\n",
        "    'on', 'off', 'over', 'under', 'again', 'further', 'then', 'once', 'here', 'there', 'when', 'where', 'why',\n",
        "    'how', 'all', 'any', 'both', 'each', 'few', 'more', 'most', 'other', 'some', 'such', 'no', 'nor', 'not',\n",
        "    'only', 'own', 'same', 'so', 'than', 'too', 'very', 's', 't', 'can', 'will', 'just', 'don', \"don't\", 'shold',\n",
        "    \"should've\", 'now', 'd', 'll', 'm', 'o', 're', 've', 'y', 'ain', 'aren', \"aren't\", 'couldn', \"couldn't\",\n",
        "    'didn', \"didn't\", 'doesn', \"doesn't\", 'hadn', \"hadn't\", 'hasn', \"hasn't\", 'haven', \"haven't\", 'isn', \"isn't\",\n",
        "    'ma', 'mightn', \"mightn't\", 'mustn', \"mustn't\", 'needn', \"needn't\", 'shan', \"shan't\", 'shouldn', \"shouldn't\",\n",
        "    'wasn', \"wasn't\", 'weren', \"weren't\", 'won', \"won't\", 'wouldn', \"wouldn't\"\n",
        "]\n",
        "def tokenize_text(raw_text: str):\n",
        "    \"\"\"Функция для токенизации текста\n",
        "    \n",
        "    :param raw_text: исходная текстовая строка\n",
        "    \"\"\"\n",
        "    tokenized_str = nltk.word_tokenize(raw_text)\n",
        "    tokens = [i.lower() for i in tokenized_str if ( i not in string.punctuation )]\n",
        "    filtered_tokens = [i for i in tokens if ( i not in stop_words )]\n",
        "    return filtered_tokens"
      ],
      "execution_count": 2,
      "outputs": []
    },
    {
      "cell_type": "code",
      "metadata": {
        "id": "tjVCCF5LAutT",
        "colab_type": "code",
        "colab": {
          "base_uri": "https://localhost:8080/",
          "height": 54
        },
        "outputId": "65805107-9080-4e43-e652-180203ab7f1e"
      },
      "source": [
        "from sklearn.feature_extraction.text import CountVectorizer\n",
        "\n",
        "vectorizer = CountVectorizer(tokenizer=tokenize_text)\n",
        "document_matrix = vectorizer.fit_transform(df.tweet_text.values)\n",
        "document_matrix"
      ],
      "execution_count": 3,
      "outputs": [
        {
          "output_type": "execute_result",
          "data": {
            "text/plain": [
              "<3904x7312 sparse matrix of type '<class 'numpy.int64'>'\n",
              "\twith 46040 stored elements in Compressed Sparse Row format>"
            ]
          },
          "metadata": {
            "tags": []
          },
          "execution_count": 3
        }
      ]
    },
    {
      "cell_type": "markdown",
      "metadata": {
        "id": "RQ7_b8FbnDYg",
        "colab_type": "text"
      },
      "source": [
        "### Задание среднего уровня\n",
        "\n",
        "Пользуясь матрицей схожести, полученной на предыдущем этапе, найдите top-5 твитов, похожих на твит валидационного сета с `id=14`."
      ]
    },
    {
      "cell_type": "code",
      "metadata": {
        "id": "SgmUriXSnDYh",
        "colab_type": "code",
        "colab": {
          "base_uri": "https://localhost:8080/",
          "height": 277
        },
        "outputId": "056b0fcb-85e8-47f2-a9f0-719e17a548c9"
      },
      "source": [
        "from sklearn.metrics import pairwise_distances\n",
        "import numpy as np\n",
        "\n",
        "test_tweet_index = 14 \n",
        "# 14\n",
        "print(df.iloc[test_tweet_index].tweet_text+'\\n------------------------------\\n')\n",
        "\n",
        "### YOUR CODE HERE ###\n",
        "\n",
        "tweet_distance = 1-pairwise_distances(document_matrix, metric=\"cosine\")\n",
        "sorted_similarity = np.argsort(-tweet_distance[test_tweet_index,:])\n",
        "for i in range (1,6):\n",
        "  print (df.iloc[sorted_similarity[i]].tweet_text)\n",
        "  print('-------------')\n",
        "\n"
      ],
      "execution_count": 4,
      "outputs": [
        {
          "output_type": "stream",
          "text": [
            "haha, awesomely rad iPad app by @madebymany http://bit.ly/hTdFim #hollergram #sxsw\n",
            "------------------------------\n",
            "\n",
            "RT haha, awesomely rad iPad app by @madebymany http://bit.ly/hTdFim #hollergram #sxsw (via @michaelpiliero)\n",
            "-------------\n",
            "Great #sxsw ipad app from @madebymany: http://tinyurl.com/4nqv92l\n",
            "-------------\n",
            "RT haha, awesomely rad iPad app by @mention {link} #hollergram #sxsw (via @mention\n",
            "-------------\n",
            "Very smart from @madebymany #hollergram iPad app for #sxsw! http://t.co/A3xvWc6 (may leave my vuvuzela at home now)\n",
            "-------------\n",
            "You must have this app for your iPad if you are going to #SXSW http://itunes.apple.com/us/app/holler-gram/id420666439?mt=8 #hollergram\n",
            "-------------\n"
          ],
          "name": "stdout"
        }
      ]
    },
    {
      "cell_type": "markdown",
      "metadata": {
        "id": "HdW_C-ninDYm",
        "colab_type": "text"
      },
      "source": [
        "### Задание высокого уровня.\n",
        "\n",
        "У вас есть матрица схожести между объектами. Попробуйте решить задачу поиска дубликатов в тексте\n",
        "\n",
        "1. Визуализируйте гистограмму значений в матрице схожести.\n",
        "1. Напишите функцию на Python, которая принимает индекс твита, пороговое значение (число от $0.0$ до $1.0$ и матрицу схожести, а затем выводит все твиты, схожесть которых больше, чем пороговое значение."
      ]
    },
    {
      "cell_type": "markdown",
      "metadata": {
        "id": "P2Q2xgAEA8yj",
        "colab_type": "text"
      },
      "source": [
        "**ВАРИАНТ 1**"
      ]
    },
    {
      "cell_type": "code",
      "metadata": {
        "id": "WQB7Z0uA79Bt",
        "colab_type": "code",
        "colab": {
          "base_uri": "https://localhost:8080/",
          "height": 276
        },
        "outputId": "1197afba-152e-4733-e10a-5d567f51ec1e"
      },
      "source": [
        "from matplotlib import pyplot as plt\n",
        "import numpy as np\n",
        "L=[]\n",
        "for ind, j in enumerate(tweet_distance):\n",
        "  for i in j:\n",
        "    L.append(i)\n",
        "\n",
        "plt.hist(L,bins=80)\n",
        "plt.show()"
      ],
      "execution_count": 20,
      "outputs": [
        {
          "output_type": "display_data",
          "data": {
            "image/png": "[encoded data removed]",
            "text/plain": [
              "<Figure size 432x288 with 1 Axes>"
            ]
          },
          "metadata": {
            "tags": [],
            "needs_background": "light"
          }
        }
      ]
    },
    {
      "cell_type": "markdown",
      "metadata": {
        "id": "7TwiKAbqBHp1",
        "colab_type": "text"
      },
      "source": [
        "**ВАРИАНТ 2**"
      ]
    },
    {
      "cell_type": "code",
      "metadata": {
        "id": "vm-roi5j7ZcP",
        "colab_type": "code",
        "colab": {
          "base_uri": "https://localhost:8080/",
          "height": 276
        },
        "outputId": "b5c7aa91-5b82-4ccd-c936-943475cfcfce"
      },
      "source": [
        "from matplotlib import pyplot as plt\n",
        "import numpy as np\n",
        "from itertools import chain\n",
        "\n",
        "res=chain(*tweet_distance)\n",
        "arr=np.array([i for i in res])\n",
        "plt.hist(arr,bins=80)\n",
        "plt.show()"
      ],
      "execution_count": 12,
      "outputs": [
        {
          "output_type": "display_data",
          "data": {
            "image/png": "[encoded data removed]",
            "text/plain": [
              "<Figure size 432x288 with 1 Axes>"
            ]
          },
          "metadata": {
            "tags": [],
            "needs_background": "light"
          }
        }
      ]
    },
    {
      "cell_type": "code",
      "metadata": {
        "id": "868ES1u1r3vw",
        "colab_type": "code",
        "colab": {
          "base_uri": "https://localhost:8080/",
          "height": 481
        },
        "outputId": "9b4a5b6c-1ecc-439c-d5fc-b695f7d3fac0"
      },
      "source": [
        "import scipy.spatial.distance\n",
        "\n",
        "def dupl (index,n,matrix):\n",
        "  arr=matrix.toarray()\n",
        "  for ind, i in enumerate(arr):\n",
        "    if (1-scipy.spatial.distance.cosine(arr[index],arr[ind])) >= n:\n",
        "      print (df.iloc[ind].tweet_text+'\\n------------------------------\\n')\n",
        "\n",
        "\n",
        "\n",
        "\n",
        "\n",
        "\n",
        "\n",
        "dupl(14,0.5,document_matrix)"
      ],
      "execution_count": null,
      "outputs": [
        {
          "output_type": "stream",
          "text": [
            "Beautifully smart and simple idea RT @madebymany @thenextweb wrote about our #hollergram iPad app for #sxsw! http://bit.ly/ieaVOB\n",
            "------------------------------\n",
            "\n",
            "Great #sxsw ipad app from @madebymany: http://tinyurl.com/4nqv92l\n",
            "------------------------------\n",
            "\n",
            "haha, awesomely rad iPad app by @madebymany http://bit.ly/hTdFim #hollergram #sxsw\n",
            "------------------------------\n",
            "\n",
            "RT haha, awesomely rad iPad app by @madebymany http://bit.ly/hTdFim #hollergram #sxsw (via @michaelpiliero)\n",
            "------------------------------\n",
            "\n",
            "Very smart from @madebymany #hollergram iPad app for #sxsw! http://t.co/A3xvWc6 (may leave my vuvuzela at home now)\n",
            "------------------------------\n",
            "\n",
            "You must have this app for your iPad if you are going to #SXSW http://itunes.apple.com/us/app/holler-gram/id420666439?mt=8 #hollergram\n",
            "------------------------------\n",
            "\n",
            "RT haha, awesomely rad iPad app by @mention {link} #hollergram #sxsw (via @mention\n",
            "------------------------------\n",
            "\n",
            "RT haha, awesomely rad iPad app by @mention {link} #hollergram #sxsw (via @mention @mention\n",
            "------------------------------\n",
            "\n"
          ],
          "name": "stdout"
        }
      ]
    }
  ]
}